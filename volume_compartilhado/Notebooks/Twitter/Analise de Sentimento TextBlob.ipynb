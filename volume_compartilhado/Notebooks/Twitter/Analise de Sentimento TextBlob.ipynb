{
 "cells": [
  {
   "cell_type": "code",
   "execution_count": 1,
   "id": "000dbd05-44fc-40bd-9cd0-43359fc33e23",
   "metadata": {},
   "outputs": [],
   "source": [
    "import tweepy\n",
    "from textblob import TextBlob\n",
    "from googletrans import Translator\n",
    "from unidecode import unidecode\n",
    "from pymongo import MongoClient\n",
    "import pandas as pd\n"
   ]
  },
  {
   "cell_type": "code",
   "execution_count": 2,
   "id": "482a7083-952e-49f0-b01f-f74f4e2dbef6",
   "metadata": {},
   "outputs": [],
   "source": [
    "def conecta_mongo(usuario,senha):\n",
    "    client = MongoClient(\"mongodb://{}:{}@mongodb:27017/db_nlp\".format(usuario,senha))\n",
    "    return client\n",
    "\n",
    "def retorna_termos_validos(client):\n",
    "    db = client[\"db_nlp\"]\n",
    "    collection = db[\"collection_clean_twittes_text\"]\n",
    "    list_tweets = []\n",
    "    for x in collection.find():\n",
    "            list_tweets.append(x)\n",
    "    return list_tweets\n"
   ]
  },
  {
   "cell_type": "code",
   "execution_count": 3,
   "id": "e854be0e-e8bd-45b2-ad20-c7ca1ca2bd29",
   "metadata": {},
   "outputs": [],
   "source": [
    "cliente_mongo = conecta_mongo(\"user_twitter_script\",\"pass_twitter_script\")\n",
    "lista_tweeter = retorna_termos_validos(cliente_mongo)"
   ]
  },
  {
   "cell_type": "code",
   "execution_count": 4,
   "id": "247441ba-8aa2-43de-b503-92cdfab68286",
   "metadata": {},
   "outputs": [],
   "source": [
    "df_tweeter = pd.DataFrame(lista_tweeter) "
   ]
  },
  {
   "cell_type": "code",
   "execution_count": 9,
   "id": "9f5093a3-cab4-4c94-8c92-9b52f8215ce6",
   "metadata": {},
   "outputs": [],
   "source": [
    "l = df_tweeter[\"text_cleaned\"][5:6].apply(lambda x:Translator().translate(x).text)\n"
   ]
  },
  {
   "cell_type": "code",
   "execution_count": 14,
   "id": "65b0115d-1a3f-4a0c-bf8f-0560f0beb797",
   "metadata": {},
   "outputs": [
    {
     "data": {
      "text/plain": [
       "0.0"
      ]
     },
     "execution_count": 14,
     "metadata": {},
     "output_type": "execute_result"
    }
   ],
   "source": []
  },
  {
   "cell_type": "code",
   "execution_count": null,
   "id": "73e4ca49-1d7c-412f-8dce-fc9008ade6ca",
   "metadata": {},
   "outputs": [],
   "source": []
  },
  {
   "cell_type": "code",
   "execution_count": null,
   "id": "d4ba3fec-14f0-4773-bed9-7243c5be9b1b",
   "metadata": {},
   "outputs": [],
   "source": []
  }
 ],
 "metadata": {
  "kernelspec": {
   "display_name": "Python 3 (ipykernel)",
   "language": "python",
   "name": "python3"
  },
  "language_info": {
   "codemirror_mode": {
    "name": "ipython",
    "version": 3
   },
   "file_extension": ".py",
   "mimetype": "text/x-python",
   "name": "python",
   "nbconvert_exporter": "python",
   "pygments_lexer": "ipython3",
   "version": "3.10.5"
  }
 },
 "nbformat": 4,
 "nbformat_minor": 5
}
